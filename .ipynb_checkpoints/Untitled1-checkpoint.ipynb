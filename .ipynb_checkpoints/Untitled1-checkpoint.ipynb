{
 "cells": [
  {
   "cell_type": "markdown",
   "id": "e3643fa8-44cd-4e93-91ff-7eaad67d12f0",
   "metadata": {},
   "source": [
    "# To do list Assignment "
   ]
  },
  {
   "cell_type": "code",
   "execution_count": 2,
   "id": "46cb5d30-1b76-49e0-b1d2-be9ee0598b63",
   "metadata": {},
   "outputs": [],
   "source": [
    "def display_menu():\n",
    "    print(\"1. Add Task\")\n",
    "    print(\"2. Mark Task as Completed\")\n",
    "    print(\"3. List Tasks\")\n",
    "    print(\"4. Remove Task\")\n",
    "    print(\"5. Quit\")\n",
    "\n",
    "def add_task(tasks):\n",
    "    task_description = input(\"Enter the task description: \")\n",
    "    tasks.append({\"description\": task_description, \"completed\": False})\n",
    "    print(f'Task \"{task_description}\" added.')\n",
    "\n",
    "def mark_task_as_completed(tasks):\n",
    "    list_tasks(tasks)\n",
    "    try:\n",
    "        task_index = int(input(\"Enter the task number to mark as completed: \")) - 1\n",
    "        if 0 <= task_index < len(tasks):\n",
    "            if not tasks[task_index][\"completed\"]:\n",
    "                tasks[task_index][\"completed\"] = True\n",
    "                print(f'Task \"{tasks[task_index][\"description\"]}\" marked as completed.')\n",
    "            else:\n",
    "                print(\"This task is already marked as completed.\")\n",
    "        else:\n",
    "            print(\"Invalid task number.\")\n",
    "    except ValueError:\n",
    "        print(\"Please enter a valid number.\")\n",
    "\n",
    "def list_tasks(tasks):\n",
    "    if tasks:\n",
    "        for i, task in enumerate(tasks, start=1):\n",
    "            status = \"Completed\" if task[\"completed\"] else \"Not Completed\"\n",
    "            print(f'{i}. {task[\"description\"]} - {status}')\n",
    "    else:\n",
    "        print(\"No tasks available.\")\n",
    "\n",
    "def remove_task(tasks):\n",
    "    list_tasks(tasks)\n",
    "    try:\n",
    "        task_index = int(input(\"Enter the task number to remove: \")) - 1\n",
    "        if 0 <= task_index < len(tasks):\n",
    "            removed_task = tasks.pop(task_index)\n",
    "            print(f'Task \"{removed_task[\"description\"]}\" removed.')\n",
    "        else:\n",
    "            print(\"Invalid task number.\")\n",
    "    except ValueError:\n",
    "        print(\"Please enter a valid number.\")\n",
    "\n",
    "def main():\n",
    "    tasks = []\n",
    "    while True:\n",
    "        display_menu()\n",
    "        choice = input(\"Select an option: \")\n",
    "        if choice == \"1\":\n",
    "            add_task(tasks)\n",
    "        elif choice == \"2\":\n",
    "            mark_task_as_completed(tasks)\n",
    "        elif choice == \"3\":\n",
    "            list_tasks(tasks)\n",
    "        elif choice == \"4\":\n",
    "            remove_task(tasks)\n",
    "        elif choice == \"5\":\n",
    "            print(\"Goodbye!\")\n",
    "            break\n",
    "        else:\n",
    "            print(\"Invalid choice. Please select a valid option.\")\n"
   ]
  },
  {
   "cell_type": "code",
   "execution_count": 3,
   "id": "ddba6498-f445-492b-af92-d59b1e656d08",
   "metadata": {},
   "outputs": [
    {
     "ename": "NameError",
     "evalue": "name '_name_' is not defined",
     "output_type": "error",
     "traceback": [
      "\u001b[1;31m---------------------------------------------------------------------------\u001b[0m",
      "\u001b[1;31mNameError\u001b[0m                                 Traceback (most recent call last)",
      "Cell \u001b[1;32mIn[3], line 1\u001b[0m\n\u001b[1;32m----> 1\u001b[0m \u001b[38;5;28;01mif\u001b[39;00m _name_ \u001b[38;5;241m==\u001b[39m \u001b[38;5;124m\"\u001b[39m\u001b[38;5;124m_main_\u001b[39m\u001b[38;5;124m\"\u001b[39m:\n\u001b[0;32m      2\u001b[0m     main()\n",
      "\u001b[1;31mNameError\u001b[0m: name '_name_' is not defined"
     ]
    }
   ],
   "source": [
    "if _name_ == \"_main_\":\n",
    "    main()"
   ]
  },
  {
   "cell_type": "code",
   "execution_count": null,
   "id": "ffcb7337-cbc9-44b9-aa17-130cf9d5bbfe",
   "metadata": {},
   "outputs": [],
   "source": []
  }
 ],
 "metadata": {
  "kernelspec": {
   "display_name": "Python 3 (ipykernel)",
   "language": "python",
   "name": "python3"
  },
  "language_info": {
   "codemirror_mode": {
    "name": "ipython",
    "version": 3
   },
   "file_extension": ".py",
   "mimetype": "text/x-python",
   "name": "python",
   "nbconvert_exporter": "python",
   "pygments_lexer": "ipython3",
   "version": "3.11.7"
  }
 },
 "nbformat": 4,
 "nbformat_minor": 5
}
